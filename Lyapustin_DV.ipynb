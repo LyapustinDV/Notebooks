{
  "nbformat": 4,
  "nbformat_minor": 0,
  "metadata": {
    "colab": {
      "provenance": []
    },
    "kernelspec": {
      "name": "python3",
      "display_name": "Python 3"
    },
    "language_info": {
      "name": "python"
    }
  },
  "cells": [
    {
      "cell_type": "markdown",
      "source": [
        "В качестве набора данных я буду использовать собственный датасет, который я создал сам на основании общедоступных данных из википедии и других данных. Это список некоторых стран со следующими признаками: Население (чел.), ВВП ($/душу населения), среднегодовая температура воздуха (гр. С) и количество производимой (генерируемой) электроэнергии (TW/h). Я решил посмотреть зависимость объема генерации электроэнергии, от других признаков, которые я посчитал подходящими. Данные брались за 2021 год.\n"
      ],
      "metadata": {
        "id": "welnPVwTKCZ8"
      }
    },
    {
      "cell_type": "code",
      "execution_count": null,
      "metadata": {
        "id": "RYyx2ivxNizi"
      },
      "outputs": [],
      "source": [
        "import numpy as np\n",
        "import pandas as pd"
      ]
    },
    {
      "cell_type": "markdown",
      "source": [
        "Создал таблицу в Excel, сохранил в формате CSV.\n",
        "Cчитываем данные:"
      ],
      "metadata": {
        "id": "1q96x93LLGgU"
      }
    },
    {
      "cell_type": "code",
      "source": [
        "DATA = pd.read_csv(\"/content/drive/MyDrive/Colab Notebooks/DS.csv\", delimiter=';', index_col='Country')\n",
        "DATA"
      ],
      "metadata": {
        "colab": {
          "base_uri": "https://localhost:8080/",
          "height": 1000
        },
        "id": "lM3YMWGSNuh9",
        "outputId": "3c0f53ad-3806-4e72-d098-c9ba87f6537d"
      },
      "execution_count": null,
      "outputs": [
        {
          "output_type": "execute_result",
          "data": {
            "text/plain": [
              "                      Population      GDP Temperature  Consumption\n",
              "Country                                                           \n",
              "Belgium                 11476279  50412.0        11,3          100\n",
              "Czechia                 10693939  25806.0         8,9           85\n",
              "France                  68959599  45028.0        12,8          555\n",
              "Germany                 83349300  50787.0        10,3          584\n",
              "Italy                   59236213  35584.0        13,3          287\n",
              "Netherlands             17730745  57714.0        11,3          120\n",
              "Poland                  38313035  17318.0         9,4          181\n",
              "Portugal                10347892  24457.0        15,9           50\n",
              "Romania                 19401658  14863.0        11,1           59\n",
              "Spain                   46934632  30536.0        16,9          272\n",
              "Sweden                  10313447  58639.0         6,9          169\n",
              "United Kingdom          67647112  46200.0        10,3          309\n",
              "Norway                   5673500  82244.0         3,7          157\n",
              "Turkey                  86154997   9406.0        17,3          333\n",
              "Kazakhstan              19666840  10283.0         7,4          115\n",
              "Russia                 147182123  11273.0         4,0         1157\n",
              "Ukraine                 40997699   4960.0         9,8          157\n",
              "Uzbekistan              36082887   1901.0        15,3           65\n",
              "Canada                  39142170  52791.0         1,9          633\n",
              "United States          336023460  69375.0        13,7         4381\n",
              "Argentina               44938712   9929.0        21,9          153\n",
              "Brazil                 218196780   7741.0        24,2          680\n",
              "Chile                   20705565  16799.0        14,6           89\n",
              "Colombia                49258494   5892.0        14,8           85\n",
              "Mexico                 128649565   9967.0        24,5          350\n",
              "China                 1425862000  11891.0        14,4         8537\n",
              "India                 1409998000   2116.0        26,2         1669\n",
              "Indonesia              280488501   4224.0        27,0          309\n",
              "Japan                  124830000  40704.0        12,8         1030\n",
              "Malaysia                 3449824  11124.0         NaN          172\n",
              "South Korea             51780579  35195.0        13,7          595\n",
              "Taiwan                  23782448      NaN        24,4          291\n",
              "Thailand                69605371   7808.0        27,9          179\n",
              "Australia               26630000  62618.0        19,6          266\n",
              "New Zealand              5100540  48348.0        14,2           44\n",
              "Algeria                 45653000   3638.0        19,2           91\n",
              "Egypt                  107882680   3851.0        25,5          211\n",
              "Nigeria                216826390   2272.0        26,8           34\n",
              "South Africa            61956900   6861.0        18,4          245\n",
              "Iran                    87775706  12725.0        18,7          363\n",
              "Kuwait                   4207000  27927.0        27,5           84\n",
              "Saudi Arabia             3521816  20761.0        28,5          403\n",
              "United Arab Emirates     9771000  43537.0        28,6          146"
            ],
            "text/html": [
              "\n",
              "  <div id=\"df-c8edd080-6dff-41c9-8fd5-be0c07cb77e1\">\n",
              "    <div class=\"colab-df-container\">\n",
              "      <div>\n",
              "<style scoped>\n",
              "    .dataframe tbody tr th:only-of-type {\n",
              "        vertical-align: middle;\n",
              "    }\n",
              "\n",
              "    .dataframe tbody tr th {\n",
              "        vertical-align: top;\n",
              "    }\n",
              "\n",
              "    .dataframe thead th {\n",
              "        text-align: right;\n",
              "    }\n",
              "</style>\n",
              "<table border=\"1\" class=\"dataframe\">\n",
              "  <thead>\n",
              "    <tr style=\"text-align: right;\">\n",
              "      <th></th>\n",
              "      <th>Population</th>\n",
              "      <th>GDP</th>\n",
              "      <th>Temperature</th>\n",
              "      <th>Consumption</th>\n",
              "    </tr>\n",
              "    <tr>\n",
              "      <th>Country</th>\n",
              "      <th></th>\n",
              "      <th></th>\n",
              "      <th></th>\n",
              "      <th></th>\n",
              "    </tr>\n",
              "  </thead>\n",
              "  <tbody>\n",
              "    <tr>\n",
              "      <th>Belgium</th>\n",
              "      <td>11476279</td>\n",
              "      <td>50412.0</td>\n",
              "      <td>11,3</td>\n",
              "      <td>100</td>\n",
              "    </tr>\n",
              "    <tr>\n",
              "      <th>Czechia</th>\n",
              "      <td>10693939</td>\n",
              "      <td>25806.0</td>\n",
              "      <td>8,9</td>\n",
              "      <td>85</td>\n",
              "    </tr>\n",
              "    <tr>\n",
              "      <th>France</th>\n",
              "      <td>68959599</td>\n",
              "      <td>45028.0</td>\n",
              "      <td>12,8</td>\n",
              "      <td>555</td>\n",
              "    </tr>\n",
              "    <tr>\n",
              "      <th>Germany</th>\n",
              "      <td>83349300</td>\n",
              "      <td>50787.0</td>\n",
              "      <td>10,3</td>\n",
              "      <td>584</td>\n",
              "    </tr>\n",
              "    <tr>\n",
              "      <th>Italy</th>\n",
              "      <td>59236213</td>\n",
              "      <td>35584.0</td>\n",
              "      <td>13,3</td>\n",
              "      <td>287</td>\n",
              "    </tr>\n",
              "    <tr>\n",
              "      <th>Netherlands</th>\n",
              "      <td>17730745</td>\n",
              "      <td>57714.0</td>\n",
              "      <td>11,3</td>\n",
              "      <td>120</td>\n",
              "    </tr>\n",
              "    <tr>\n",
              "      <th>Poland</th>\n",
              "      <td>38313035</td>\n",
              "      <td>17318.0</td>\n",
              "      <td>9,4</td>\n",
              "      <td>181</td>\n",
              "    </tr>\n",
              "    <tr>\n",
              "      <th>Portugal</th>\n",
              "      <td>10347892</td>\n",
              "      <td>24457.0</td>\n",
              "      <td>15,9</td>\n",
              "      <td>50</td>\n",
              "    </tr>\n",
              "    <tr>\n",
              "      <th>Romania</th>\n",
              "      <td>19401658</td>\n",
              "      <td>14863.0</td>\n",
              "      <td>11,1</td>\n",
              "      <td>59</td>\n",
              "    </tr>\n",
              "    <tr>\n",
              "      <th>Spain</th>\n",
              "      <td>46934632</td>\n",
              "      <td>30536.0</td>\n",
              "      <td>16,9</td>\n",
              "      <td>272</td>\n",
              "    </tr>\n",
              "    <tr>\n",
              "      <th>Sweden</th>\n",
              "      <td>10313447</td>\n",
              "      <td>58639.0</td>\n",
              "      <td>6,9</td>\n",
              "      <td>169</td>\n",
              "    </tr>\n",
              "    <tr>\n",
              "      <th>United Kingdom</th>\n",
              "      <td>67647112</td>\n",
              "      <td>46200.0</td>\n",
              "      <td>10,3</td>\n",
              "      <td>309</td>\n",
              "    </tr>\n",
              "    <tr>\n",
              "      <th>Norway</th>\n",
              "      <td>5673500</td>\n",
              "      <td>82244.0</td>\n",
              "      <td>3,7</td>\n",
              "      <td>157</td>\n",
              "    </tr>\n",
              "    <tr>\n",
              "      <th>Turkey</th>\n",
              "      <td>86154997</td>\n",
              "      <td>9406.0</td>\n",
              "      <td>17,3</td>\n",
              "      <td>333</td>\n",
              "    </tr>\n",
              "    <tr>\n",
              "      <th>Kazakhstan</th>\n",
              "      <td>19666840</td>\n",
              "      <td>10283.0</td>\n",
              "      <td>7,4</td>\n",
              "      <td>115</td>\n",
              "    </tr>\n",
              "    <tr>\n",
              "      <th>Russia</th>\n",
              "      <td>147182123</td>\n",
              "      <td>11273.0</td>\n",
              "      <td>4,0</td>\n",
              "      <td>1157</td>\n",
              "    </tr>\n",
              "    <tr>\n",
              "      <th>Ukraine</th>\n",
              "      <td>40997699</td>\n",
              "      <td>4960.0</td>\n",
              "      <td>9,8</td>\n",
              "      <td>157</td>\n",
              "    </tr>\n",
              "    <tr>\n",
              "      <th>Uzbekistan</th>\n",
              "      <td>36082887</td>\n",
              "      <td>1901.0</td>\n",
              "      <td>15,3</td>\n",
              "      <td>65</td>\n",
              "    </tr>\n",
              "    <tr>\n",
              "      <th>Canada</th>\n",
              "      <td>39142170</td>\n",
              "      <td>52791.0</td>\n",
              "      <td>1,9</td>\n",
              "      <td>633</td>\n",
              "    </tr>\n",
              "    <tr>\n",
              "      <th>United States</th>\n",
              "      <td>336023460</td>\n",
              "      <td>69375.0</td>\n",
              "      <td>13,7</td>\n",
              "      <td>4381</td>\n",
              "    </tr>\n",
              "    <tr>\n",
              "      <th>Argentina</th>\n",
              "      <td>44938712</td>\n",
              "      <td>9929.0</td>\n",
              "      <td>21,9</td>\n",
              "      <td>153</td>\n",
              "    </tr>\n",
              "    <tr>\n",
              "      <th>Brazil</th>\n",
              "      <td>218196780</td>\n",
              "      <td>7741.0</td>\n",
              "      <td>24,2</td>\n",
              "      <td>680</td>\n",
              "    </tr>\n",
              "    <tr>\n",
              "      <th>Chile</th>\n",
              "      <td>20705565</td>\n",
              "      <td>16799.0</td>\n",
              "      <td>14,6</td>\n",
              "      <td>89</td>\n",
              "    </tr>\n",
              "    <tr>\n",
              "      <th>Colombia</th>\n",
              "      <td>49258494</td>\n",
              "      <td>5892.0</td>\n",
              "      <td>14,8</td>\n",
              "      <td>85</td>\n",
              "    </tr>\n",
              "    <tr>\n",
              "      <th>Mexico</th>\n",
              "      <td>128649565</td>\n",
              "      <td>9967.0</td>\n",
              "      <td>24,5</td>\n",
              "      <td>350</td>\n",
              "    </tr>\n",
              "    <tr>\n",
              "      <th>China</th>\n",
              "      <td>1425862000</td>\n",
              "      <td>11891.0</td>\n",
              "      <td>14,4</td>\n",
              "      <td>8537</td>\n",
              "    </tr>\n",
              "    <tr>\n",
              "      <th>India</th>\n",
              "      <td>1409998000</td>\n",
              "      <td>2116.0</td>\n",
              "      <td>26,2</td>\n",
              "      <td>1669</td>\n",
              "    </tr>\n",
              "    <tr>\n",
              "      <th>Indonesia</th>\n",
              "      <td>280488501</td>\n",
              "      <td>4224.0</td>\n",
              "      <td>27,0</td>\n",
              "      <td>309</td>\n",
              "    </tr>\n",
              "    <tr>\n",
              "      <th>Japan</th>\n",
              "      <td>124830000</td>\n",
              "      <td>40704.0</td>\n",
              "      <td>12,8</td>\n",
              "      <td>1030</td>\n",
              "    </tr>\n",
              "    <tr>\n",
              "      <th>Malaysia</th>\n",
              "      <td>3449824</td>\n",
              "      <td>11124.0</td>\n",
              "      <td>NaN</td>\n",
              "      <td>172</td>\n",
              "    </tr>\n",
              "    <tr>\n",
              "      <th>South Korea</th>\n",
              "      <td>51780579</td>\n",
              "      <td>35195.0</td>\n",
              "      <td>13,7</td>\n",
              "      <td>595</td>\n",
              "    </tr>\n",
              "    <tr>\n",
              "      <th>Taiwan</th>\n",
              "      <td>23782448</td>\n",
              "      <td>NaN</td>\n",
              "      <td>24,4</td>\n",
              "      <td>291</td>\n",
              "    </tr>\n",
              "    <tr>\n",
              "      <th>Thailand</th>\n",
              "      <td>69605371</td>\n",
              "      <td>7808.0</td>\n",
              "      <td>27,9</td>\n",
              "      <td>179</td>\n",
              "    </tr>\n",
              "    <tr>\n",
              "      <th>Australia</th>\n",
              "      <td>26630000</td>\n",
              "      <td>62618.0</td>\n",
              "      <td>19,6</td>\n",
              "      <td>266</td>\n",
              "    </tr>\n",
              "    <tr>\n",
              "      <th>New Zealand</th>\n",
              "      <td>5100540</td>\n",
              "      <td>48348.0</td>\n",
              "      <td>14,2</td>\n",
              "      <td>44</td>\n",
              "    </tr>\n",
              "    <tr>\n",
              "      <th>Algeria</th>\n",
              "      <td>45653000</td>\n",
              "      <td>3638.0</td>\n",
              "      <td>19,2</td>\n",
              "      <td>91</td>\n",
              "    </tr>\n",
              "    <tr>\n",
              "      <th>Egypt</th>\n",
              "      <td>107882680</td>\n",
              "      <td>3851.0</td>\n",
              "      <td>25,5</td>\n",
              "      <td>211</td>\n",
              "    </tr>\n",
              "    <tr>\n",
              "      <th>Nigeria</th>\n",
              "      <td>216826390</td>\n",
              "      <td>2272.0</td>\n",
              "      <td>26,8</td>\n",
              "      <td>34</td>\n",
              "    </tr>\n",
              "    <tr>\n",
              "      <th>South Africa</th>\n",
              "      <td>61956900</td>\n",
              "      <td>6861.0</td>\n",
              "      <td>18,4</td>\n",
              "      <td>245</td>\n",
              "    </tr>\n",
              "    <tr>\n",
              "      <th>Iran</th>\n",
              "      <td>87775706</td>\n",
              "      <td>12725.0</td>\n",
              "      <td>18,7</td>\n",
              "      <td>363</td>\n",
              "    </tr>\n",
              "    <tr>\n",
              "      <th>Kuwait</th>\n",
              "      <td>4207000</td>\n",
              "      <td>27927.0</td>\n",
              "      <td>27,5</td>\n",
              "      <td>84</td>\n",
              "    </tr>\n",
              "    <tr>\n",
              "      <th>Saudi Arabia</th>\n",
              "      <td>3521816</td>\n",
              "      <td>20761.0</td>\n",
              "      <td>28,5</td>\n",
              "      <td>403</td>\n",
              "    </tr>\n",
              "    <tr>\n",
              "      <th>United Arab Emirates</th>\n",
              "      <td>9771000</td>\n",
              "      <td>43537.0</td>\n",
              "      <td>28,6</td>\n",
              "      <td>146</td>\n",
              "    </tr>\n",
              "  </tbody>\n",
              "</table>\n",
              "</div>\n",
              "      <button class=\"colab-df-convert\" onclick=\"convertToInteractive('df-c8edd080-6dff-41c9-8fd5-be0c07cb77e1')\"\n",
              "              title=\"Convert this dataframe to an interactive table.\"\n",
              "              style=\"display:none;\">\n",
              "        \n",
              "  <svg xmlns=\"http://www.w3.org/2000/svg\" height=\"24px\"viewBox=\"0 0 24 24\"\n",
              "       width=\"24px\">\n",
              "    <path d=\"M0 0h24v24H0V0z\" fill=\"none\"/>\n",
              "    <path d=\"M18.56 5.44l.94 2.06.94-2.06 2.06-.94-2.06-.94-.94-2.06-.94 2.06-2.06.94zm-11 1L8.5 8.5l.94-2.06 2.06-.94-2.06-.94L8.5 2.5l-.94 2.06-2.06.94zm10 10l.94 2.06.94-2.06 2.06-.94-2.06-.94-.94-2.06-.94 2.06-2.06.94z\"/><path d=\"M17.41 7.96l-1.37-1.37c-.4-.4-.92-.59-1.43-.59-.52 0-1.04.2-1.43.59L10.3 9.45l-7.72 7.72c-.78.78-.78 2.05 0 2.83L4 21.41c.39.39.9.59 1.41.59.51 0 1.02-.2 1.41-.59l7.78-7.78 2.81-2.81c.8-.78.8-2.07 0-2.86zM5.41 20L4 18.59l7.72-7.72 1.47 1.35L5.41 20z\"/>\n",
              "  </svg>\n",
              "      </button>\n",
              "      \n",
              "  <style>\n",
              "    .colab-df-container {\n",
              "      display:flex;\n",
              "      flex-wrap:wrap;\n",
              "      gap: 12px;\n",
              "    }\n",
              "\n",
              "    .colab-df-convert {\n",
              "      background-color: #E8F0FE;\n",
              "      border: none;\n",
              "      border-radius: 50%;\n",
              "      cursor: pointer;\n",
              "      display: none;\n",
              "      fill: #1967D2;\n",
              "      height: 32px;\n",
              "      padding: 0 0 0 0;\n",
              "      width: 32px;\n",
              "    }\n",
              "\n",
              "    .colab-df-convert:hover {\n",
              "      background-color: #E2EBFA;\n",
              "      box-shadow: 0px 1px 2px rgba(60, 64, 67, 0.3), 0px 1px 3px 1px rgba(60, 64, 67, 0.15);\n",
              "      fill: #174EA6;\n",
              "    }\n",
              "\n",
              "    [theme=dark] .colab-df-convert {\n",
              "      background-color: #3B4455;\n",
              "      fill: #D2E3FC;\n",
              "    }\n",
              "\n",
              "    [theme=dark] .colab-df-convert:hover {\n",
              "      background-color: #434B5C;\n",
              "      box-shadow: 0px 1px 3px 1px rgba(0, 0, 0, 0.15);\n",
              "      filter: drop-shadow(0px 1px 2px rgba(0, 0, 0, 0.3));\n",
              "      fill: #FFFFFF;\n",
              "    }\n",
              "  </style>\n",
              "\n",
              "      <script>\n",
              "        const buttonEl =\n",
              "          document.querySelector('#df-c8edd080-6dff-41c9-8fd5-be0c07cb77e1 button.colab-df-convert');\n",
              "        buttonEl.style.display =\n",
              "          google.colab.kernel.accessAllowed ? 'block' : 'none';\n",
              "\n",
              "        async function convertToInteractive(key) {\n",
              "          const element = document.querySelector('#df-c8edd080-6dff-41c9-8fd5-be0c07cb77e1');\n",
              "          const dataTable =\n",
              "            await google.colab.kernel.invokeFunction('convertToInteractive',\n",
              "                                                     [key], {});\n",
              "          if (!dataTable) return;\n",
              "\n",
              "          const docLinkHtml = 'Like what you see? Visit the ' +\n",
              "            '<a target=\"_blank\" href=https://colab.research.google.com/notebooks/data_table.ipynb>data table notebook</a>'\n",
              "            + ' to learn more about interactive tables.';\n",
              "          element.innerHTML = '';\n",
              "          dataTable['output_type'] = 'display_data';\n",
              "          await google.colab.output.renderOutput(dataTable, element);\n",
              "          const docLink = document.createElement('div');\n",
              "          docLink.innerHTML = docLinkHtml;\n",
              "          element.appendChild(docLink);\n",
              "        }\n",
              "      </script>\n",
              "    </div>\n",
              "  </div>\n",
              "  "
            ]
          },
          "metadata": {},
          "execution_count": 2
        }
      ]
    },
    {
      "cell_type": "markdown",
      "source": [
        "Предварительная обработка данных.\n",
        "Как видим, мы имеем датасет с некоторыми пропущенными данными. Их немного, поэтому просто удалим их. \n",
        "Также в столбце 'Temperature' Запятую заменяю на точку."
      ],
      "metadata": {
        "id": "OTD34Rh9LsKs"
      }
    },
    {
      "cell_type": "code",
      "source": [
        "train_data = DATA.drop(['Taiwan','Malaysia'])\n"
      ],
      "metadata": {
        "id": "Y4j09YyHEvjl"
      },
      "execution_count": null,
      "outputs": []
    },
    {
      "cell_type": "code",
      "source": [
        "train_data['Temperature'] = train_data['Temperature'].str.replace(',', '.')\n",
        "train_data.head()"
      ],
      "metadata": {
        "id": "3kPnDMUK10vi",
        "colab": {
          "base_uri": "https://localhost:8080/",
          "height": 238
        },
        "outputId": "67838b29-f454-4171-dbe0-dfb6b723cacb"
      },
      "execution_count": null,
      "outputs": [
        {
          "output_type": "execute_result",
          "data": {
            "text/plain": [
              "         Population      GDP Temperature  Consumption\n",
              "Country                                              \n",
              "Belgium    11476279  50412.0        11.3          100\n",
              "Czechia    10693939  25806.0         8.9           85\n",
              "France     68959599  45028.0        12.8          555\n",
              "Germany    83349300  50787.0        10.3          584\n",
              "Italy      59236213  35584.0        13.3          287"
            ],
            "text/html": [
              "\n",
              "  <div id=\"df-c634137d-109b-4c55-90e5-dfe1e98d0f87\">\n",
              "    <div class=\"colab-df-container\">\n",
              "      <div>\n",
              "<style scoped>\n",
              "    .dataframe tbody tr th:only-of-type {\n",
              "        vertical-align: middle;\n",
              "    }\n",
              "\n",
              "    .dataframe tbody tr th {\n",
              "        vertical-align: top;\n",
              "    }\n",
              "\n",
              "    .dataframe thead th {\n",
              "        text-align: right;\n",
              "    }\n",
              "</style>\n",
              "<table border=\"1\" class=\"dataframe\">\n",
              "  <thead>\n",
              "    <tr style=\"text-align: right;\">\n",
              "      <th></th>\n",
              "      <th>Population</th>\n",
              "      <th>GDP</th>\n",
              "      <th>Temperature</th>\n",
              "      <th>Consumption</th>\n",
              "    </tr>\n",
              "    <tr>\n",
              "      <th>Country</th>\n",
              "      <th></th>\n",
              "      <th></th>\n",
              "      <th></th>\n",
              "      <th></th>\n",
              "    </tr>\n",
              "  </thead>\n",
              "  <tbody>\n",
              "    <tr>\n",
              "      <th>Belgium</th>\n",
              "      <td>11476279</td>\n",
              "      <td>50412.0</td>\n",
              "      <td>11.3</td>\n",
              "      <td>100</td>\n",
              "    </tr>\n",
              "    <tr>\n",
              "      <th>Czechia</th>\n",
              "      <td>10693939</td>\n",
              "      <td>25806.0</td>\n",
              "      <td>8.9</td>\n",
              "      <td>85</td>\n",
              "    </tr>\n",
              "    <tr>\n",
              "      <th>France</th>\n",
              "      <td>68959599</td>\n",
              "      <td>45028.0</td>\n",
              "      <td>12.8</td>\n",
              "      <td>555</td>\n",
              "    </tr>\n",
              "    <tr>\n",
              "      <th>Germany</th>\n",
              "      <td>83349300</td>\n",
              "      <td>50787.0</td>\n",
              "      <td>10.3</td>\n",
              "      <td>584</td>\n",
              "    </tr>\n",
              "    <tr>\n",
              "      <th>Italy</th>\n",
              "      <td>59236213</td>\n",
              "      <td>35584.0</td>\n",
              "      <td>13.3</td>\n",
              "      <td>287</td>\n",
              "    </tr>\n",
              "  </tbody>\n",
              "</table>\n",
              "</div>\n",
              "      <button class=\"colab-df-convert\" onclick=\"convertToInteractive('df-c634137d-109b-4c55-90e5-dfe1e98d0f87')\"\n",
              "              title=\"Convert this dataframe to an interactive table.\"\n",
              "              style=\"display:none;\">\n",
              "        \n",
              "  <svg xmlns=\"http://www.w3.org/2000/svg\" height=\"24px\"viewBox=\"0 0 24 24\"\n",
              "       width=\"24px\">\n",
              "    <path d=\"M0 0h24v24H0V0z\" fill=\"none\"/>\n",
              "    <path d=\"M18.56 5.44l.94 2.06.94-2.06 2.06-.94-2.06-.94-.94-2.06-.94 2.06-2.06.94zm-11 1L8.5 8.5l.94-2.06 2.06-.94-2.06-.94L8.5 2.5l-.94 2.06-2.06.94zm10 10l.94 2.06.94-2.06 2.06-.94-2.06-.94-.94-2.06-.94 2.06-2.06.94z\"/><path d=\"M17.41 7.96l-1.37-1.37c-.4-.4-.92-.59-1.43-.59-.52 0-1.04.2-1.43.59L10.3 9.45l-7.72 7.72c-.78.78-.78 2.05 0 2.83L4 21.41c.39.39.9.59 1.41.59.51 0 1.02-.2 1.41-.59l7.78-7.78 2.81-2.81c.8-.78.8-2.07 0-2.86zM5.41 20L4 18.59l7.72-7.72 1.47 1.35L5.41 20z\"/>\n",
              "  </svg>\n",
              "      </button>\n",
              "      \n",
              "  <style>\n",
              "    .colab-df-container {\n",
              "      display:flex;\n",
              "      flex-wrap:wrap;\n",
              "      gap: 12px;\n",
              "    }\n",
              "\n",
              "    .colab-df-convert {\n",
              "      background-color: #E8F0FE;\n",
              "      border: none;\n",
              "      border-radius: 50%;\n",
              "      cursor: pointer;\n",
              "      display: none;\n",
              "      fill: #1967D2;\n",
              "      height: 32px;\n",
              "      padding: 0 0 0 0;\n",
              "      width: 32px;\n",
              "    }\n",
              "\n",
              "    .colab-df-convert:hover {\n",
              "      background-color: #E2EBFA;\n",
              "      box-shadow: 0px 1px 2px rgba(60, 64, 67, 0.3), 0px 1px 3px 1px rgba(60, 64, 67, 0.15);\n",
              "      fill: #174EA6;\n",
              "    }\n",
              "\n",
              "    [theme=dark] .colab-df-convert {\n",
              "      background-color: #3B4455;\n",
              "      fill: #D2E3FC;\n",
              "    }\n",
              "\n",
              "    [theme=dark] .colab-df-convert:hover {\n",
              "      background-color: #434B5C;\n",
              "      box-shadow: 0px 1px 3px 1px rgba(0, 0, 0, 0.15);\n",
              "      filter: drop-shadow(0px 1px 2px rgba(0, 0, 0, 0.3));\n",
              "      fill: #FFFFFF;\n",
              "    }\n",
              "  </style>\n",
              "\n",
              "      <script>\n",
              "        const buttonEl =\n",
              "          document.querySelector('#df-c634137d-109b-4c55-90e5-dfe1e98d0f87 button.colab-df-convert');\n",
              "        buttonEl.style.display =\n",
              "          google.colab.kernel.accessAllowed ? 'block' : 'none';\n",
              "\n",
              "        async function convertToInteractive(key) {\n",
              "          const element = document.querySelector('#df-c634137d-109b-4c55-90e5-dfe1e98d0f87');\n",
              "          const dataTable =\n",
              "            await google.colab.kernel.invokeFunction('convertToInteractive',\n",
              "                                                     [key], {});\n",
              "          if (!dataTable) return;\n",
              "\n",
              "          const docLinkHtml = 'Like what you see? Visit the ' +\n",
              "            '<a target=\"_blank\" href=https://colab.research.google.com/notebooks/data_table.ipynb>data table notebook</a>'\n",
              "            + ' to learn more about interactive tables.';\n",
              "          element.innerHTML = '';\n",
              "          dataTable['output_type'] = 'display_data';\n",
              "          await google.colab.output.renderOutput(dataTable, element);\n",
              "          const docLink = document.createElement('div');\n",
              "          docLink.innerHTML = docLinkHtml;\n",
              "          element.appendChild(docLink);\n",
              "        }\n",
              "      </script>\n",
              "    </div>\n",
              "  </div>\n",
              "  "
            ]
          },
          "metadata": {},
          "execution_count": 4
        }
      ]
    },
    {
      "cell_type": "markdown",
      "source": [
        "Постановка задачи и построение модели. \n",
        "Ставим задачу предсказания объема производства электроэнергии. \n",
        "Будем использовать модель линейной регресии."
      ],
      "metadata": {
        "id": "HfwMn3ZaMjAX"
      }
    },
    {
      "cell_type": "markdown",
      "source": [
        "Отберем данные для предикторов, удаление последнего столбца"
      ],
      "metadata": {
        "id": "7iVGk9_3M8VH"
      }
    },
    {
      "cell_type": "code",
      "source": [
        "X = pd.DataFrame(train_data.drop(['Consumption'], axis=1))"
      ],
      "metadata": {
        "id": "eGlO9nphPSly"
      },
      "execution_count": null,
      "outputs": []
    },
    {
      "cell_type": "markdown",
      "source": [
        "Отберем данные для отклика (последний столбец)"
      ],
      "metadata": {
        "id": "neCOCKQhNibs"
      }
    },
    {
      "cell_type": "code",
      "source": [
        "y = pd.DataFrame(train_data['Consumption'])"
      ],
      "metadata": {
        "id": "qUjbk25iuIWq"
      },
      "execution_count": null,
      "outputs": []
    },
    {
      "cell_type": "markdown",
      "source": [
        "Подключу модель логистической регрессии из библиотеки sklearn и обучу модель.\n"
      ],
      "metadata": {
        "id": "vYcZYctZNn9b"
      }
    },
    {
      "cell_type": "code",
      "source": [
        "from sklearn.linear_model import LinearRegression"
      ],
      "metadata": {
        "id": "sDrXOVYnuUoz"
      },
      "execution_count": null,
      "outputs": []
    },
    {
      "cell_type": "code",
      "source": [
        "reg = LinearRegression().fit(X, y)"
      ],
      "metadata": {
        "id": "pNdfaFRtuZBR"
      },
      "execution_count": null,
      "outputs": []
    },
    {
      "cell_type": "markdown",
      "source": [
        "Предскажем потребление для страны, которой нет в нашем списке.\n",
        "Например Филиппины с населением 114 597 229 человека, ВВП 9356$/чел и средней температурой 27.2 градуса."
      ],
      "metadata": {
        "id": "gCm2nJRzQWNe"
      }
    },
    {
      "cell_type": "code",
      "source": [
        "reg.predict([[114597229, 9356, 27.2]])"
      ],
      "metadata": {
        "colab": {
          "base_uri": "https://localhost:8080/"
        },
        "id": "ILdFybCERcVj",
        "outputId": "eaf3dab9-c24d-41c9-9d12-4e3547c0edd1"
      },
      "execution_count": null,
      "outputs": [
        {
          "output_type": "stream",
          "name": "stderr",
          "text": [
            "/usr/local/lib/python3.8/dist-packages/sklearn/base.py:450: UserWarning: X does not have valid feature names, but LinearRegression was fitted with feature names\n",
            "  warnings.warn(\n"
          ]
        },
        {
          "output_type": "execute_result",
          "data": {
            "text/plain": [
              "array([[50.0697776]])"
            ]
          },
          "metadata": {},
          "execution_count": 11
        }
      ]
    },
    {
      "cell_type": "markdown",
      "source": [
        "Предпологаемый объем генерации страны Филиппины за год, согласно нашей модели, составил 50.069 TW/h"
      ],
      "metadata": {
        "id": "tVEdxKm5RIA9"
      }
    },
    {
      "cell_type": "markdown",
      "source": [
        "Для оценки модели определим коэффициент детерминации"
      ],
      "metadata": {
        "id": "U1EifJOqRf3v"
      }
    },
    {
      "cell_type": "code",
      "source": [
        "y_predicted = reg.predict(X)"
      ],
      "metadata": {
        "id": "LgoPyyr_V8en"
      },
      "execution_count": null,
      "outputs": []
    },
    {
      "cell_type": "code",
      "source": [
        "from sklearn.metrics import r2_score"
      ],
      "metadata": {
        "id": "VB7ufDA7WtVq"
      },
      "execution_count": null,
      "outputs": []
    },
    {
      "cell_type": "code",
      "source": [
        "r2_score(y, y_predicted)"
      ],
      "metadata": {
        "colab": {
          "base_uri": "https://localhost:8080/"
        },
        "id": "a35Mj-LiWiga",
        "outputId": "27b8f1be-caf1-4c42-f3aa-632fb87c810e"
      },
      "execution_count": null,
      "outputs": [
        {
          "output_type": "execute_result",
          "data": {
            "text/plain": [
              "0.6464924001907413"
            ]
          },
          "metadata": {},
          "execution_count": 14
        }
      ]
    },
    {
      "cell_type": "markdown",
      "source": [
        "Значение коэффициента детерминации 0,65 - небольшое. Модель не идеальна. "
      ],
      "metadata": {
        "id": "Dx5ameskRrQO"
      }
    },
    {
      "cell_type": "markdown",
      "source": [
        "Также можем попробовать уменьшить количество признаков, и определить долю объясненной дисперсии при использовании, например, двух главных компонент.\n",
        "\n",
        "Для этого сначала нормируем данные"
      ],
      "metadata": {
        "id": "TCefDomZTxyx"
      }
    },
    {
      "cell_type": "code",
      "source": [
        "from sklearn import preprocessing\n",
        "scaler = preprocessing.MinMaxScaler()\n",
        "\n",
        "names = X.columns\n",
        "country = X.index\n",
        "d = scaler.fit_transform(X)\n",
        "\n",
        "Xsc = pd.DataFrame(d, columns=names, index=country)\n",
        "Xsc.head()"
      ],
      "metadata": {
        "colab": {
          "base_uri": "https://localhost:8080/",
          "height": 238
        },
        "id": "X2OCSz25PLBn",
        "outputId": "e82f5564-b08f-4fef-bd3d-ca466de0a100"
      },
      "execution_count": null,
      "outputs": [
        {
          "output_type": "execute_result",
          "data": {
            "text/plain": [
              "         Population       GDP  Temperature\n",
              "Country                                   \n",
              "Belgium    0.005593  0.603799     0.352060\n",
              "Czechia    0.005042  0.297537     0.262172\n",
              "France     0.046007  0.536786     0.408240\n",
              "Germany    0.056124  0.608466     0.314607\n",
              "Italy      0.039171  0.419240     0.426966"
            ],
            "text/html": [
              "\n",
              "  <div id=\"df-3b4283ab-221e-4a56-af08-9eb0b6f55487\">\n",
              "    <div class=\"colab-df-container\">\n",
              "      <div>\n",
              "<style scoped>\n",
              "    .dataframe tbody tr th:only-of-type {\n",
              "        vertical-align: middle;\n",
              "    }\n",
              "\n",
              "    .dataframe tbody tr th {\n",
              "        vertical-align: top;\n",
              "    }\n",
              "\n",
              "    .dataframe thead th {\n",
              "        text-align: right;\n",
              "    }\n",
              "</style>\n",
              "<table border=\"1\" class=\"dataframe\">\n",
              "  <thead>\n",
              "    <tr style=\"text-align: right;\">\n",
              "      <th></th>\n",
              "      <th>Population</th>\n",
              "      <th>GDP</th>\n",
              "      <th>Temperature</th>\n",
              "    </tr>\n",
              "    <tr>\n",
              "      <th>Country</th>\n",
              "      <th></th>\n",
              "      <th></th>\n",
              "      <th></th>\n",
              "    </tr>\n",
              "  </thead>\n",
              "  <tbody>\n",
              "    <tr>\n",
              "      <th>Belgium</th>\n",
              "      <td>0.005593</td>\n",
              "      <td>0.603799</td>\n",
              "      <td>0.352060</td>\n",
              "    </tr>\n",
              "    <tr>\n",
              "      <th>Czechia</th>\n",
              "      <td>0.005042</td>\n",
              "      <td>0.297537</td>\n",
              "      <td>0.262172</td>\n",
              "    </tr>\n",
              "    <tr>\n",
              "      <th>France</th>\n",
              "      <td>0.046007</td>\n",
              "      <td>0.536786</td>\n",
              "      <td>0.408240</td>\n",
              "    </tr>\n",
              "    <tr>\n",
              "      <th>Germany</th>\n",
              "      <td>0.056124</td>\n",
              "      <td>0.608466</td>\n",
              "      <td>0.314607</td>\n",
              "    </tr>\n",
              "    <tr>\n",
              "      <th>Italy</th>\n",
              "      <td>0.039171</td>\n",
              "      <td>0.419240</td>\n",
              "      <td>0.426966</td>\n",
              "    </tr>\n",
              "  </tbody>\n",
              "</table>\n",
              "</div>\n",
              "      <button class=\"colab-df-convert\" onclick=\"convertToInteractive('df-3b4283ab-221e-4a56-af08-9eb0b6f55487')\"\n",
              "              title=\"Convert this dataframe to an interactive table.\"\n",
              "              style=\"display:none;\">\n",
              "        \n",
              "  <svg xmlns=\"http://www.w3.org/2000/svg\" height=\"24px\"viewBox=\"0 0 24 24\"\n",
              "       width=\"24px\">\n",
              "    <path d=\"M0 0h24v24H0V0z\" fill=\"none\"/>\n",
              "    <path d=\"M18.56 5.44l.94 2.06.94-2.06 2.06-.94-2.06-.94-.94-2.06-.94 2.06-2.06.94zm-11 1L8.5 8.5l.94-2.06 2.06-.94-2.06-.94L8.5 2.5l-.94 2.06-2.06.94zm10 10l.94 2.06.94-2.06 2.06-.94-2.06-.94-.94-2.06-.94 2.06-2.06.94z\"/><path d=\"M17.41 7.96l-1.37-1.37c-.4-.4-.92-.59-1.43-.59-.52 0-1.04.2-1.43.59L10.3 9.45l-7.72 7.72c-.78.78-.78 2.05 0 2.83L4 21.41c.39.39.9.59 1.41.59.51 0 1.02-.2 1.41-.59l7.78-7.78 2.81-2.81c.8-.78.8-2.07 0-2.86zM5.41 20L4 18.59l7.72-7.72 1.47 1.35L5.41 20z\"/>\n",
              "  </svg>\n",
              "      </button>\n",
              "      \n",
              "  <style>\n",
              "    .colab-df-container {\n",
              "      display:flex;\n",
              "      flex-wrap:wrap;\n",
              "      gap: 12px;\n",
              "    }\n",
              "\n",
              "    .colab-df-convert {\n",
              "      background-color: #E8F0FE;\n",
              "      border: none;\n",
              "      border-radius: 50%;\n",
              "      cursor: pointer;\n",
              "      display: none;\n",
              "      fill: #1967D2;\n",
              "      height: 32px;\n",
              "      padding: 0 0 0 0;\n",
              "      width: 32px;\n",
              "    }\n",
              "\n",
              "    .colab-df-convert:hover {\n",
              "      background-color: #E2EBFA;\n",
              "      box-shadow: 0px 1px 2px rgba(60, 64, 67, 0.3), 0px 1px 3px 1px rgba(60, 64, 67, 0.15);\n",
              "      fill: #174EA6;\n",
              "    }\n",
              "\n",
              "    [theme=dark] .colab-df-convert {\n",
              "      background-color: #3B4455;\n",
              "      fill: #D2E3FC;\n",
              "    }\n",
              "\n",
              "    [theme=dark] .colab-df-convert:hover {\n",
              "      background-color: #434B5C;\n",
              "      box-shadow: 0px 1px 3px 1px rgba(0, 0, 0, 0.15);\n",
              "      filter: drop-shadow(0px 1px 2px rgba(0, 0, 0, 0.3));\n",
              "      fill: #FFFFFF;\n",
              "    }\n",
              "  </style>\n",
              "\n",
              "      <script>\n",
              "        const buttonEl =\n",
              "          document.querySelector('#df-3b4283ab-221e-4a56-af08-9eb0b6f55487 button.colab-df-convert');\n",
              "        buttonEl.style.display =\n",
              "          google.colab.kernel.accessAllowed ? 'block' : 'none';\n",
              "\n",
              "        async function convertToInteractive(key) {\n",
              "          const element = document.querySelector('#df-3b4283ab-221e-4a56-af08-9eb0b6f55487');\n",
              "          const dataTable =\n",
              "            await google.colab.kernel.invokeFunction('convertToInteractive',\n",
              "                                                     [key], {});\n",
              "          if (!dataTable) return;\n",
              "\n",
              "          const docLinkHtml = 'Like what you see? Visit the ' +\n",
              "            '<a target=\"_blank\" href=https://colab.research.google.com/notebooks/data_table.ipynb>data table notebook</a>'\n",
              "            + ' to learn more about interactive tables.';\n",
              "          element.innerHTML = '';\n",
              "          dataTable['output_type'] = 'display_data';\n",
              "          await google.colab.output.renderOutput(dataTable, element);\n",
              "          const docLink = document.createElement('div');\n",
              "          docLink.innerHTML = docLinkHtml;\n",
              "          element.appendChild(docLink);\n",
              "        }\n",
              "      </script>\n",
              "    </div>\n",
              "  </div>\n",
              "  "
            ]
          },
          "metadata": {},
          "execution_count": 15
        }
      ]
    },
    {
      "cell_type": "markdown",
      "source": [
        "Подключем модуль Метода главных компонент и обучим модель."
      ],
      "metadata": {
        "id": "nN6fuLB3UE2h"
      }
    },
    {
      "cell_type": "code",
      "source": [
        "from sklearn.decomposition import PCA"
      ],
      "metadata": {
        "id": "aKsTggvItKgS"
      },
      "execution_count": null,
      "outputs": []
    },
    {
      "cell_type": "code",
      "source": [
        "pca = PCA(n_components = 2, svd_solver = 'full') \n",
        "pca.fit(Xsc)\n",
        "pca_data = pca.transform(Xsc)"
      ],
      "metadata": {
        "id": "kzIEUWUDwdrJ"
      },
      "execution_count": null,
      "outputs": []
    },
    {
      "cell_type": "markdown",
      "source": [
        "Мы хотим вычислить долю объясненной дисперсии при использовании двух ГК. Для этого построим 3 ГК, тк изначально объекты обладали тремя признаками."
      ],
      "metadata": {
        "id": "gVGfacaAUmCw"
      }
    },
    {
      "cell_type": "code",
      "source": [
        "pca = PCA(n_components = 3, svd_solver = 'full') \n",
        "pca_data = pca.fit_transform(Xsc)"
      ],
      "metadata": {
        "id": "_2YNCrI_w25M"
      },
      "execution_count": null,
      "outputs": []
    },
    {
      "cell_type": "markdown",
      "source": [
        "Доля объясненной дисперсии для каждой ГК хранится в поле explained_variance_ratio_, используем сумму с накоплением: np.cumsum "
      ],
      "metadata": {
        "id": "-rTTOkoAUuu-"
      }
    },
    {
      "cell_type": "code",
      "source": [
        "pca.explained_variance_ratio_"
      ],
      "metadata": {
        "colab": {
          "base_uri": "https://localhost:8080/"
        },
        "id": "ptOerxekxFpq",
        "outputId": "8bf3dce5-d3a4-4b04-e128-555ab8ca7299"
      },
      "execution_count": null,
      "outputs": [
        {
          "output_type": "execute_result",
          "data": {
            "text/plain": [
              "array([0.58163164, 0.21958944, 0.19877892])"
            ]
          },
          "metadata": {},
          "execution_count": 24
        }
      ]
    },
    {
      "cell_type": "code",
      "source": [
        "explained_variance = np.cumsum(pca.explained_variance_ratio_)\n",
        "explained_variance"
      ],
      "metadata": {
        "colab": {
          "base_uri": "https://localhost:8080/"
        },
        "id": "JUKcgGtPQit5",
        "outputId": "c58c3149-89fe-4fdc-ee30-465eec74ab4c"
      },
      "execution_count": null,
      "outputs": [
        {
          "output_type": "execute_result",
          "data": {
            "text/plain": [
              "array([0.58163164, 0.80122108, 1.        ])"
            ]
          },
          "metadata": {},
          "execution_count": 25
        }
      ]
    },
    {
      "cell_type": "markdown",
      "source": [
        "При использовании первых двух ГК доля объясненной дисперсии составляет примерно 0.8.\n",
        "Неплохое значение \n",
        "Построим график зависимости доли объясненной дисперсии от количества используемых ГК."
      ],
      "metadata": {
        "id": "jcn-QJAzVHuu"
      }
    },
    {
      "cell_type": "code",
      "source": [
        "import seaborn as sns\n"
      ],
      "metadata": {
        "id": "92gsFUnURF-T"
      },
      "execution_count": null,
      "outputs": []
    },
    {
      "cell_type": "code",
      "source": [
        "sns.lineplot(np.arange(1, 4), explained_variance)"
      ],
      "metadata": {
        "colab": {
          "base_uri": "https://localhost:8080/",
          "height": 337
        },
        "id": "Zc_hLxdiST9X",
        "outputId": "23b26f2c-f6cb-49d7-c51d-b48535ee9b17"
      },
      "execution_count": null,
      "outputs": [
        {
          "output_type": "stream",
          "name": "stderr",
          "text": [
            "/usr/local/lib/python3.8/dist-packages/seaborn/_decorators.py:36: FutureWarning: Pass the following variables as keyword args: x, y. From version 0.12, the only valid positional argument will be `data`, and passing other arguments without an explicit keyword will result in an error or misinterpretation.\n",
            "  warnings.warn(\n"
          ]
        },
        {
          "output_type": "execute_result",
          "data": {
            "text/plain": [
              "<matplotlib.axes._subplots.AxesSubplot at 0x7f30249bac70>"
            ]
          },
          "metadata": {},
          "execution_count": 27
        },
        {
          "output_type": "display_data",
          "data": {
            "text/plain": [
              "<Figure size 432x288 with 1 Axes>"
            ],
            "image/png": "[encoded data removed]"
          },
          "metadata": {
            "needs_background": "light"
          }
        }
      ]
    }
  ]
}